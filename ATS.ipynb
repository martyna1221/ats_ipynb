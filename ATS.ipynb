{
  "nbformat": 4,
  "nbformat_minor": 0,
  "metadata": {
    "colab": {
      "provenance": []
    },
    "kernelspec": {
      "name": "python3",
      "display_name": "Python 3"
    },
    "language_info": {
      "name": "python"
    }
  },
  "cells": [
    {
      "cell_type": "code",
      "execution_count": null,
      "metadata": {
        "id": "ugBhv65T-HZa"
      },
      "outputs": [],
      "source": [
        "#ATS for Path.ai\n",
        "#drop the files into the content folder so the path is: \"/content/{file_name}\""
      ]
    },
    {
      "cell_type": "code",
      "source": [
        "!pip install python-docx\n",
        "import docx\n",
        "\n",
        "#converts docx to a string\n",
        "def docx_to_string(docx_path):\n",
        "    # Load the Word document using python-docx\n",
        "    doc = docx.Document(docx_path)\n",
        "\n",
        "    # Extract text from each paragraph\n",
        "    text = ''.join([para.text for para in doc.paragraphs])\n",
        "\n",
        "    return text"
      ],
      "metadata": {
        "colab": {
          "base_uri": "https://localhost:8080/"
        },
        "id": "VczTe_mm-LrQ",
        "outputId": "4f8874db-d10c-4382-89f6-93e3798767f3"
      },
      "execution_count": null,
      "outputs": [
        {
          "output_type": "stream",
          "name": "stdout",
          "text": [
            "Collecting python-docx\n",
            "  Downloading python-docx-0.8.11.tar.gz (5.6 MB)\n",
            "\u001b[2K     \u001b[90m━━━━━━━━━━━━━━━━━━━━━━━━━━━━━━━━━━━━━━━━\u001b[0m \u001b[32m5.6/5.6 MB\u001b[0m \u001b[31m10.5 MB/s\u001b[0m eta \u001b[36m0:00:00\u001b[0m\n",
            "\u001b[?25h  Preparing metadata (setup.py) ... \u001b[?25l\u001b[?25hdone\n",
            "Requirement already satisfied: lxml>=2.3.2 in /usr/local/lib/python3.10/dist-packages (from python-docx) (4.9.3)\n",
            "Building wheels for collected packages: python-docx\n",
            "  Building wheel for python-docx (setup.py) ... \u001b[?25l\u001b[?25hdone\n",
            "  Created wheel for python-docx: filename=python_docx-0.8.11-py3-none-any.whl size=184487 sha256=14e49cb51e87218e92ea38978a7eac46ba48673af1d302c086deb104eca07078\n",
            "  Stored in directory: /root/.cache/pip/wheels/80/27/06/837436d4c3bd989b957a91679966f207bfd71d358d63a8194d\n",
            "Successfully built python-docx\n",
            "Installing collected packages: python-docx\n",
            "Successfully installed python-docx-0.8.11\n"
          ]
        }
      ]
    },
    {
      "cell_type": "code",
      "source": [
        "!pip install pypdf2\n",
        "from PyPDF2 import PdfReader\n",
        "\n",
        "#converts pdf to a string (NOT RECOMMENDED)\n",
        "def extract_text_from_pdf(pdf_path):\n",
        "    with open(pdf_path, 'rb') as file:\n",
        "        reader = PdfReader(file)\n",
        "        text = \"\"\n",
        "        for page in reader.pages:\n",
        "            text += page.extract_text()  # Updated method name\n",
        "    return text"
      ],
      "metadata": {
        "colab": {
          "base_uri": "https://localhost:8080/"
        },
        "id": "yg3HYrHs_I10",
        "outputId": "aaaa063b-e1f8-424b-a4b3-65bdad0615dc"
      },
      "execution_count": null,
      "outputs": [
        {
          "output_type": "stream",
          "name": "stdout",
          "text": [
            "Requirement already satisfied: pypdf2 in /usr/local/lib/python3.10/dist-packages (3.0.1)\n"
          ]
        }
      ]
    },
    {
      "cell_type": "code",
      "source": [
        "from sklearn.feature_extraction.text import TfidfVectorizer\n",
        "from sklearn.metrics.pairwise import cosine_similarity\n",
        "import string\n",
        "\n",
        "#converts resume_string to all lowercase & eliminates punctuation\n",
        "def preprocess_text(text):\n",
        "    # Convert to lowercase\n",
        "    text = text.lower()\n",
        "    # Remove punctuation\n",
        "    text = text.translate(str.maketrans('', '', string.punctuation))\n",
        "    return text\n",
        "\n",
        "#ranks resume_string against job_description\n",
        "def rank_resume(resume, job_description):\n",
        "    # Preprocess the texts\n",
        "    resume = preprocess_text(resume)\n",
        "    job_description = preprocess_text(job_description)\n",
        "\n",
        "    # Create a vectorizer\n",
        "    vectorizer = TfidfVectorizer(stop_words='english')\n",
        "\n",
        "    # Vectorize the texts\n",
        "    tfidf_matrix = vectorizer.fit_transform([resume, job_description])\n",
        "\n",
        "    # Compute cosine similarity\n",
        "    similarity = cosine_similarity(tfidf_matrix[0:1], tfidf_matrix[1:2])\n",
        "\n",
        "    # Convert to a scale of 0 to 100\n",
        "    return similarity[0][0] * 100"
      ],
      "metadata": {
        "id": "vZg8zQlJ-VtN"
      },
      "execution_count": null,
      "outputs": []
    },
    {
      "cell_type": "code",
      "source": [
        "from sklearn.feature_extraction.text import TfidfVectorizer\n",
        "\n",
        "#suggests improvements for a users resume based on keywords found in job_description\n",
        "def suggest_improvements(resume, job_description):\n",
        "    # Vectorize the texts to get word scores using TF-IDF\n",
        "    vectorizer = TfidfVectorizer(stop_words='english', max_df=0.85)  # max_df can be adjusted to filter out extremely common terms\n",
        "    matrix = vectorizer.fit_transform([resume, job_description])\n",
        "    feature_names = vectorizer.get_feature_names_out()\n",
        "    scores = matrix.toarray()\n",
        "\n",
        "    # Extract important keywords from the job description that are not in the resume\n",
        "    threshold = 0.1  # This can be adjusted based on your needs\n",
        "    missing_keywords = [feature_names[i] for i, score in enumerate(scores[1]) if score > threshold and scores[0][i] == 0]\n",
        "\n",
        "    suggestions = []\n",
        "\n",
        "    if missing_keywords:\n",
        "        suggestions.append(f\"Consider adding these keywords from the job description to your resume: {', '.join(missing_keywords)}.\")\n",
        "\n",
        "    return suggestions"
      ],
      "metadata": {
        "id": "aab0BSgd-qxh"
      },
      "execution_count": null,
      "outputs": []
    },
    {
      "cell_type": "code",
      "source": [
        "#got this from chat using the prompt: \"give me a job description for a cto\"\n",
        "job_description = \"\"\"\n",
        "Job Title: Chief Technology Officer (CTO)\n",
        "\n",
        "Company: [Company Name]\n",
        "\n",
        "Location: [Company Location or \"Remote\"]\n",
        "\n",
        "Description:\n",
        "[Company Name], an industry-leading [specific industry, e.g., 'fintech', 'healthtech', 'e-commerce'] company, is seeking an experienced Chief Technology Officer (CTO) to lead our technology department. The ideal candidate will be responsible for overseeing all technical aspects of the company, guiding the company's strategic direction, development, and future growth.\n",
        "\n",
        "Key Responsibilities:\n",
        "\n",
        "1. Lead the technology department in day-to-day operations, ensuring optimal performance and output.\n",
        "2. Develop and implement new technologies that yield competitive advantage.\n",
        "3. Collaborate with departments to align the company's technology resources with its short-term and long-term goals.\n",
        "4. Work with stakeholders to define business and system requirements.\n",
        "5. Monitor system infrastructure to ensure functionality and efficiency.\n",
        "6. Build quality assurance and data protection processes.\n",
        "7. Create and implement technology strategies.\n",
        "8. Track, analyze, and monitor technology performance metrics.\n",
        "9. Oversee IT budgets to ensure cost-effectiveness.\n",
        "10. Identify and leverage opportunities for technological partnerships and outsourcing.\n",
        "\n",
        "Qualifications:\n",
        "\n",
        "1. Bachelor's degree in Computer Science, Engineering, or a related field; Master's degree preferred.\n",
        "2. Proven experience in a CTO or similar leadership role.\n",
        "3. Knowledge of technological trends to build a strategy.\n",
        "4. Experience in software development and platform implementation.\n",
        "5. Strong leadership qualities and organizational skills.\n",
        "6. Exceptional project management skills.\n",
        "7. Ability to conduct technology analysis and research.\n",
        "8. Strong problem-solving capabilities and the ability to think strategically.\n",
        "9. Excellent verbal and written communication skills.\n",
        "\n",
        "To Apply:\n",
        "Interested candidates are invited to send their resume, along with a cover letter detailing their relevant experience and explaining why they are the best fit for this role, to [HR email address]. We thank all applicants for their interest, but only those selected for an interview will be contacted.\n",
        "\n",
        "\"\"\""
      ],
      "metadata": {
        "id": "iiyJbXEH-64T"
      },
      "execution_count": null,
      "outputs": []
    },
    {
      "cell_type": "markdown",
      "source": [
        "Running a PDF resume of a software engineer that WOULD NOT be qualified for a CTO position. The score is low. Scores range from 0-100 in this ranking system."
      ],
      "metadata": {
        "id": "A2kfJEVlCR1q"
      }
    },
    {
      "cell_type": "code",
      "source": [
        "resume_path = \"/content/sample_software_engineer_resume.pdf\"\n",
        "resume_text = extract_text_from_pdf(resume_path)\n",
        "#print(resume_text)"
      ],
      "metadata": {
        "id": "RithRA--BCNX"
      },
      "execution_count": null,
      "outputs": []
    },
    {
      "cell_type": "code",
      "source": [
        "similarity_score = rank_resume(resume_text, job_description)\n",
        "print(f\"Similarity Score: {similarity_score:.2f}\")"
      ],
      "metadata": {
        "colab": {
          "base_uri": "https://localhost:8080/"
        },
        "id": "eTnTw96h-9H2",
        "outputId": "fd355167-bb5b-40bf-d11d-f59a71586763"
      },
      "execution_count": null,
      "outputs": [
        {
          "output_type": "stream",
          "name": "stdout",
          "text": [
            "Similarity Score: 9.46\n"
          ]
        }
      ]
    },
    {
      "cell_type": "code",
      "source": [
        "tips = suggest_improvements(resume_text, job_description)\n",
        "for tip in tips:\n",
        "    print(tip)"
      ],
      "metadata": {
        "colab": {
          "base_uri": "https://localhost:8080/"
        },
        "id": "3y9r9B2o-_bH",
        "outputId": "02973bf1-a909-41d9-8991-1230c9fb5220"
      },
      "execution_count": null,
      "outputs": [
        {
          "output_type": "stream",
          "name": "stdout",
          "text": [
            "Consider adding these keywords from the job description to your resume: ability, build, chief, company, cto, day, department, ensure, experience, implement, industry, lead, leadership, location, monitor, officer, performance, role, strong, technological, term.\n"
          ]
        }
      ]
    },
    {
      "cell_type": "markdown",
      "source": [
        "Running a PDF resume of a CTO that SHOULD be qualified for a CTO position. The ranking is higher."
      ],
      "metadata": {
        "id": "sWCGpI2UDRpp"
      }
    },
    {
      "cell_type": "code",
      "source": [
        "resume_path = \"/content/sample_cto_resume.pdf\"\n",
        "resume_text = extract_text_from_pdf(resume_path)\n",
        "#print(resume_text)"
      ],
      "metadata": {
        "id": "RC-jGZWLDbj9"
      },
      "execution_count": null,
      "outputs": []
    },
    {
      "cell_type": "code",
      "source": [
        "similarity_score = rank_resume(resume_text, job_description)\n",
        "print(f\"Similarity Score: {similarity_score:.2f}\")"
      ],
      "metadata": {
        "colab": {
          "base_uri": "https://localhost:8080/"
        },
        "id": "44TbayDwDgGt",
        "outputId": "5e98fc3d-cdb2-4ae5-d850-d165d5756327"
      },
      "execution_count": null,
      "outputs": [
        {
          "output_type": "stream",
          "name": "stdout",
          "text": [
            "Similarity Score: 22.43\n"
          ]
        }
      ]
    },
    {
      "cell_type": "code",
      "source": [
        "tips = suggest_improvements(resume_text, job_description)\n",
        "for tip in tips:\n",
        "    print(tip)"
      ],
      "metadata": {
        "colab": {
          "base_uri": "https://localhost:8080/"
        },
        "id": "kfoAf4HeDf6o",
        "outputId": "65cfd1af-c090-40f6-d7c7-953ebc76c0b5"
      },
      "execution_count": null,
      "outputs": [
        {
          "output_type": "stream",
          "name": "stdout",
          "text": [
            "Consider adding these keywords from the job description to your resume: ability, build, day, degree, department, ensure, lead, leadership, location, monitor, performance, role, skills, strong, technological, term.\n"
          ]
        }
      ]
    },
    {
      "cell_type": "markdown",
      "source": [
        "Running a PDF resume of a CTO that SHOULD be qualified for a CTO position w/ the suggested keywords. The ranking is even higher."
      ],
      "metadata": {
        "id": "qTeAEjNBDqMv"
      }
    },
    {
      "cell_type": "code",
      "source": [
        "resume_path = \"/content/sample_cto_resume_w_keywords.pdf\"\n",
        "resume_text = extract_text_from_pdf(resume_path)\n",
        "#print(resume_text)"
      ],
      "metadata": {
        "id": "6JFbk0T6D0O0"
      },
      "execution_count": null,
      "outputs": []
    },
    {
      "cell_type": "code",
      "source": [
        "similarity_score = rank_resume(resume_text, job_description)\n",
        "print(f\"Similarity Score: {similarity_score:.2f}\")"
      ],
      "metadata": {
        "colab": {
          "base_uri": "https://localhost:8080/"
        },
        "id": "tGhGr3_LD1vi",
        "outputId": "bc66fb2f-b843-43f8-87d4-d826d02768ae"
      },
      "execution_count": null,
      "outputs": [
        {
          "output_type": "stream",
          "name": "stdout",
          "text": [
            "Similarity Score: 25.24\n"
          ]
        }
      ]
    },
    {
      "cell_type": "code",
      "source": [
        "tips = suggest_improvements(resume_text, job_description)\n",
        "for tip in tips:\n",
        "    print(tip)"
      ],
      "metadata": {
        "colab": {
          "base_uri": "https://localhost:8080/"
        },
        "id": "THYAuRx9D3Qb",
        "outputId": "d73cf1a5-48aa-4864-af55-226a9eb79f40"
      },
      "execution_count": null,
      "outputs": [
        {
          "output_type": "stream",
          "name": "stdout",
          "text": [
            "Consider adding these keywords from the job description to your resume: day, degree, implement, location, monitor, role, term.\n"
          ]
        }
      ]
    },
    {
      "cell_type": "markdown",
      "source": [
        "Running a DOCX resume of a CTO that SHOULD be qualified for a CTO position (ORIGINAL -> convereted the PDF to a DOCX). The ranking is similar to sample_cto_resume PDF."
      ],
      "metadata": {
        "id": "VOag0PxbEAMB"
      }
    },
    {
      "cell_type": "code",
      "source": [
        "resume_path = \"/content/sample_cto_resume_no_keywords.docx\"\n",
        "resume_text = docx_to_string(resume_path)\n",
        "#print(resume_text)"
      ],
      "metadata": {
        "id": "taAu4i-NEOob"
      },
      "execution_count": null,
      "outputs": []
    },
    {
      "cell_type": "code",
      "source": [
        "similarity_score = rank_resume(resume_text, job_description)\n",
        "print(f\"Similarity Score: {similarity_score:.2f}\")"
      ],
      "metadata": {
        "colab": {
          "base_uri": "https://localhost:8080/"
        },
        "id": "o5XzE5zSEQWe",
        "outputId": "11f64f99-f082-4360-a52a-58f7fb2142e9"
      },
      "execution_count": null,
      "outputs": [
        {
          "output_type": "stream",
          "name": "stdout",
          "text": [
            "Similarity Score: 22.41\n"
          ]
        }
      ]
    },
    {
      "cell_type": "code",
      "source": [
        "tips = suggest_improvements(resume_text, job_description)\n",
        "for tip in tips:\n",
        "    print(tip)"
      ],
      "metadata": {
        "colab": {
          "base_uri": "https://localhost:8080/"
        },
        "id": "XYBv0SsyERK2",
        "outputId": "16aae9fb-2493-47a4-b79a-0f1908c2fb1c"
      },
      "execution_count": null,
      "outputs": [
        {
          "output_type": "stream",
          "name": "stdout",
          "text": [
            "Consider adding these keywords from the job description to your resume: ability, build, day, degree, department, ensure, implement, lead, leadership, location, monitor, performance, role, skills, strong, technological, term.\n"
          ]
        }
      ]
    },
    {
      "cell_type": "markdown",
      "source": [
        "Questions of interest:\n",
        "1. Would this be cheaper than the current implementation? **We could use the job description from the scraped LinkedIn data. This should be cheaper.**\n",
        "2. Is this implementation as accurante/more accurate than the current implementation? **No idea. We need to test.**\n",
        "3. Once we get a working model, what should the threshold (the score) of a GOOD resume be?\n",
        "\n",
        "Word documents are the preferred resume file type for applicant tracking systems (ATSs) because they are easier to parse than a PDF.\n",
        "\n",
        "There are other tips/tricks that we could implement to help the job applicant better pass ATSs (https://www.linkedin.com/pulse/6-resume-hacks-pass-ats-test-amelia-walker)."
      ],
      "metadata": {
        "id": "7NTr2M2REqnh"
      }
    }
  ]
}